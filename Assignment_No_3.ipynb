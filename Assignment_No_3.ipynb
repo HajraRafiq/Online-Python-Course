{
 "cells": [
  {
   "cell_type": "markdown",
   "id": "f2cb8b48",
   "metadata": {},
   "source": [
    "# Write a Python program to print the following string in a specific format  "
   ]
  },
  {
   "cell_type": "code",
   "execution_count": 4,
   "id": "3ec9ad06",
   "metadata": {},
   "outputs": [
    {
     "name": "stdout",
     "output_type": "stream",
     "text": [
      "\t Twinkle, twinkle, little star\n",
      " \t\t How I wonder what you are! \n",
      " \t\t\t Up above the world so high \n",
      "\t\t\t Like a diamond in the sky. \n",
      " \t Twinkle, Twinkle, little star \n",
      "\t\t How i wonder what you are!\n"
     ]
    }
   ],
   "source": [
    "\n",
    "print(\"\\t Twinkle, twinkle, little star\\n \\t\\t How I wonder what you are! \\n \\t\\t\\t Up above the world so high \\n\\t\\t\\t Like a diamond in the sky. \\n \\t Twinkle, Twinkle, little star \\n\\t\\t How i wonder what you are!\"  )"
   ]
  },
  {
   "cell_type": "markdown",
   "id": "3486211b",
   "metadata": {},
   "source": [
    "# Write a Python program to get the Python version you are using"
   ]
  },
  {
   "cell_type": "code",
   "execution_count": 5,
   "id": "c75811ba",
   "metadata": {},
   "outputs": [
    {
     "name": "stdout",
     "output_type": "stream",
     "text": [
      "Python 3.8.8\n"
     ]
    }
   ],
   "source": [
    "!python --version"
   ]
  },
  {
   "cell_type": "markdown",
   "id": "e8f43aff",
   "metadata": {},
   "source": [
    "# Write a Python program to display the current date and time"
   ]
  },
  {
   "cell_type": "code",
   "execution_count": 6,
   "id": "4cb837a7",
   "metadata": {},
   "outputs": [
    {
     "data": {
      "text/plain": [
       "datetime.date(2021, 10, 24)"
      ]
     },
     "execution_count": 6,
     "metadata": {},
     "output_type": "execute_result"
    }
   ],
   "source": [
    "from datetime import date\n",
    "date.today()\n"
   ]
  },
  {
   "cell_type": "code",
   "execution_count": 7,
   "id": "daa2417a",
   "metadata": {},
   "outputs": [
    {
     "name": "stdout",
     "output_type": "stream",
     "text": [
      "Current date and time: \n",
      "2021-10-24 15:24:17.529632\n"
     ]
    }
   ],
   "source": [
    "import datetime\n",
    "now = datetime.datetime.now()\n",
    "print(\"Current date and time: \")\n",
    "print(now)"
   ]
  },
  {
   "cell_type": "markdown",
   "id": "9ee66062",
   "metadata": {},
   "source": [
    "# Write a Python program which accepts the radius of a circle from the user and compute the area"
   ]
  },
  {
   "cell_type": "code",
   "execution_count": 8,
   "id": "bcd256b6",
   "metadata": {},
   "outputs": [
    {
     "name": "stdout",
     "output_type": "stream",
     "text": [
      "Enter radius: 4\n",
      "48\n"
     ]
    }
   ],
   "source": [
    "import math\n",
    "r=int(input(\"Enter radius: \"))\n",
    "a=int(math.pi)*r**2\n",
    "print(a)\n"
   ]
  },
  {
   "cell_type": "markdown",
   "id": "022d1bcf",
   "metadata": {},
   "source": [
    "# Write a Python program which accepts the user's first and last name and print them in reverse order with a space between them"
   ]
  },
  {
   "cell_type": "code",
   "execution_count": 9,
   "id": "ff1b6e13",
   "metadata": {},
   "outputs": [
    {
     "name": "stdout",
     "output_type": "stream",
     "text": [
      "Input your First Name : Hajra\n",
      "Input your Last Name : Rafiq\n",
      "Hello  Rafiq Hajra\n"
     ]
    }
   ],
   "source": [
    "firstname = input(\"Input your First Name : \")\n",
    "lastname = input(\"Input your Last Name : \")\n",
    "print (\"Hello  \" + lastname + \" \" + firstname)"
   ]
  },
  {
   "cell_type": "markdown",
   "id": "f8373882",
   "metadata": {},
   "source": [
    "# Write a python program which takes two inputs from user and print them addition "
   ]
  },
  {
   "cell_type": "code",
   "execution_count": 10,
   "id": "8a7055b3",
   "metadata": {},
   "outputs": [
    {
     "name": "stdout",
     "output_type": "stream",
     "text": [
      "Enter 1st Number: 15\n",
      "Enter 2nd Number: 62\n",
      "The sum of two numbers is  77\n"
     ]
    }
   ],
   "source": [
    "num1=int(input(\"Enter 1st Number: \"))\n",
    "num2=int(input(\"Enter 2nd Number: \"))\n",
    "sum=num1+num2\n",
    "print(\"The sum of two numbers is \",sum)"
   ]
  },
  {
   "cell_type": "markdown",
   "id": "e0b1ad81",
   "metadata": {},
   "source": [
    "# Write a program which takes 5 inputs from user for different subject’s marks, total it and generate mark sheet using grades"
   ]
  },
  {
   "cell_type": "code",
   "execution_count": 11,
   "id": "8a6953d3",
   "metadata": {},
   "outputs": [
    {
     "name": "stdout",
     "output_type": "stream",
     "text": [
      "Enter your name :Hajra Rafiq\n",
      "Enter your roll number :18\n",
      "Enter your English course marks :95\n",
      "Enter your Maths course marks 80\n",
      "Enter your islamiat course marks :85\n",
      "Enter your Science course marks :75\n",
      "Enter your Computer course marks :40\n",
      "Your total marks are  375\n",
      "Your Percentage is 75.0\n",
      "Your Grade is A\n"
     ]
    }
   ],
   "source": [
    "Student_name=str(input(\"Enter your name :\"))\n",
    "Roll_number=int(input(\"Enter your roll number :\"))\n",
    "Max_marks=100\n",
    "No_of_subjects=5\n",
    "English_marks= int(input(\"Enter your English course marks :\"))\n",
    "Maths_marks= int(input(\"Enter your Maths course marks \"))\n",
    "Islamiat_marks= int(input(\"Enter your islamiat course marks :\"))\n",
    "Science_marks=int(input(\"Enter your Science course marks :\"))\n",
    "Computer_marks=int(input(\"Enter your Computer course marks :\"))\n",
    "\n",
    "Total_obtained_marks=English_marks+Maths_marks+Islamiat_marks+Science_marks+Computer_marks\n",
    "Total_Max_Marks= Max_marks*No_of_subjects\n",
    "print(\"Your total marks are \" , Total_obtained_marks)\n",
    "\n",
    "Percentage=(Total_obtained_marks/Total_Max_Marks)*100\n",
    "\n",
    "print(\"Your Percentage is\" , Percentage)\n",
    "\n",
    "if Percentage<=100 and Percentage > 80:\n",
    "    print(\"Your Grade is A+\")\n",
    "elif Percentage <= 80 and Percentage > 70:\n",
    "    print(\"Your Grade is A\")\n",
    "elif Percentage <= 70 and Percentage > 60:\n",
    "    print(\"Your Grade is B\")\n",
    "elif Percentage <= 60 and Percentage > 50:\n",
    "    print(\"Your Grade is C\")\n",
    "elif Percentage <= 50 and Percentage > 33:\n",
    "    print(\"Your Grade is D\")\n",
    "else:\n",
    "    print (\"You are failed\")"
   ]
  },
  {
   "cell_type": "markdown",
   "id": "421d82a0",
   "metadata": {},
   "source": [
    "# Write a program which take input from user and identify that the given number is even or odd"
   ]
  },
  {
   "cell_type": "code",
   "execution_count": 12,
   "id": "e8ba8bce",
   "metadata": {},
   "outputs": [
    {
     "name": "stdout",
     "output_type": "stream",
     "text": [
      "Enter a number : 6\n",
      "Number is even \n"
     ]
    }
   ],
   "source": [
    "number=int(input(\"Enter a number : \"))\n",
    "if number%2==0:\n",
    "    print(\"Number is even \")\n",
    "else:\n",
    "    print(\"Its an odd number\")"
   ]
  },
  {
   "cell_type": "markdown",
   "id": "c9374b62",
   "metadata": {},
   "source": [
    "# Write a Python program to sum all the numeric items in a list"
   ]
  },
  {
   "cell_type": "code",
   "execution_count": 7,
   "id": "5279ced3",
   "metadata": {},
   "outputs": [
    {
     "name": "stdout",
     "output_type": "stream",
     "text": [
      "[1, 10, 3, 12]\n",
      "The sum of elements is  :  26\n"
     ]
    }
   ],
   "source": [
    "\n",
    "lst = [1,10,3,12,'a','c']\n",
    "newLst=[]\n",
    "for i in lst:\n",
    "    if type(i)==int:\n",
    "        newLst.append(i)\n",
    "print(newLst)\n",
    "print(\"The sum of elements is  : \", sum(newLst))"
   ]
  },
  {
   "cell_type": "markdown",
   "id": "59093edc",
   "metadata": {},
   "source": [
    "## Write a Python program to get the largest number from a numeric list"
   ]
  },
  {
   "cell_type": "code",
   "execution_count": 8,
   "id": "ad8aff3d",
   "metadata": {},
   "outputs": [
    {
     "name": "stdout",
     "output_type": "stream",
     "text": [
      "12\n"
     ]
    }
   ],
   "source": [
    "list = [1,9,12,11,2,3,4]\n",
    "\n",
    "print(max(list))\n"
   ]
  },
  {
   "cell_type": "markdown",
   "id": "bb8f8346",
   "metadata": {},
   "source": [
    "# Write a program that prints out all the elements of the list that are less than 5"
   ]
  },
  {
   "cell_type": "code",
   "execution_count": 9,
   "id": "c532001b",
   "metadata": {},
   "outputs": [
    {
     "name": "stdout",
     "output_type": "stream",
     "text": [
      "1\n",
      "1\n",
      "2\n",
      "3\n"
     ]
    }
   ],
   "source": [
    "a = [1, 1, 2, 3, 5, 8, 13, 21, 34, 55, 89] \n",
    "for i in a:\n",
    "    if i<5:\n",
    "        print(i)"
   ]
  },
  {
   "cell_type": "code",
   "execution_count": null,
   "id": "defb3cdb",
   "metadata": {},
   "outputs": [],
   "source": []
  },
  {
   "cell_type": "code",
   "execution_count": null,
   "id": "824c6478",
   "metadata": {},
   "outputs": [],
   "source": []
  }
 ],
 "metadata": {
  "kernelspec": {
   "display_name": "Python 3",
   "language": "python",
   "name": "python3"
  },
  "language_info": {
   "codemirror_mode": {
    "name": "ipython",
    "version": 3
   },
   "file_extension": ".py",
   "mimetype": "text/x-python",
   "name": "python",
   "nbconvert_exporter": "python",
   "pygments_lexer": "ipython3",
   "version": "3.8.8"
  }
 },
 "nbformat": 4,
 "nbformat_minor": 5
}
