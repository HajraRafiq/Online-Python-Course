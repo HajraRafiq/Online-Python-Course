{
 "cells": [
  {
   "cell_type": "code",
   "execution_count": 4,
   "id": "667d0d16",
   "metadata": {},
   "outputs": [
    {
     "name": "stdout",
     "output_type": "stream",
     "text": [
      "Enter your name HAJRA RAFIQ\n",
      "Enter your roll number 18\n",
      "Enter your English course marks 65\n",
      "Enter your Maths course marks 75\n",
      "Enter your islamiat course marks 85\n",
      "Your total marks are  225\n",
      "Your Percentage is 75.0\n",
      "Your Grade is A\n"
     ]
    }
   ],
   "source": [
    "Student_name=str(input(\"Enter your name \"))\n",
    "Roll_number=int(input(\"Enter your roll number \"))\n",
    "Max_marks=100\n",
    "No_of_subjects=3\n",
    "English_marks= int(input(\"Enter your English course marks \"))\n",
    "Maths_marks= int(input(\"Enter your Maths course marks \"))\n",
    "Islamiat_marks= int(input(\"Enter your islamiat course marks \"))\n",
    "\n",
    "Total_obtained_marks=English_marks+Maths_marks+Islamiat_marks\n",
    "Total_Max_Marks= Max_marks*No_of_subjects\n",
    "print(\"Your total marks are \" , Total_obtained_marks)\n",
    "\n",
    "Percentage=(Total_obtained_marks/Total_Max_Marks)*100\n",
    "\n",
    "print(\"Your Percentage is\" , Percentage)\n",
    "\n",
    "if Percentage<=100 and Percentage > 80:\n",
    "    print(\"Your Grade is A+\")\n",
    "elif Percentage <= 80 and Percentage > 70:\n",
    "    print(\"Your Grade is A\")\n",
    "elif Percentage <= 70 and Percentage > 60:\n",
    "    print(\"Your Grade is B\")\n",
    "elif Percentage <= 60 and Percentage > 50:\n",
    "    print(\"Your Grade is C\")\n",
    "elif Percentage <= 50 and Percentage > 33:\n",
    "    print(\"Your Grade is D\")\n",
    "else:\n",
    "    print (\"You are failed\")"
   ]
  },
  {
   "cell_type": "code",
   "execution_count": null,
   "id": "912a909c",
   "metadata": {},
   "outputs": [],
   "source": []
  }
 ],
 "metadata": {
  "kernelspec": {
   "display_name": "Python 3",
   "language": "python",
   "name": "python3"
  },
  "language_info": {
   "codemirror_mode": {
    "name": "ipython",
    "version": 3
   },
   "file_extension": ".py",
   "mimetype": "text/x-python",
   "name": "python",
   "nbconvert_exporter": "python",
   "pygments_lexer": "ipython3",
   "version": "3.8.8"
  }
 },
 "nbformat": 4,
 "nbformat_minor": 5
}
