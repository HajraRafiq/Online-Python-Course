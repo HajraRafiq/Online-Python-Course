{
 "cells": [
  {
   "cell_type": "code",
   "execution_count": 1,
   "id": "7b74f728",
   "metadata": {},
   "outputs": [
    {
     "name": "stdout",
     "output_type": "stream",
     "text": [
      "Press 1 for Addition: \n",
      "Press 2 for Subtraction: \n",
      "Press 3 for Multiplication: \n",
      "Press 4 for Division: \n",
      "\n",
      "Select operation: \n",
      "Enter choice(1/2/3/4): 3\n",
      "Enter first number: 5\n",
      "Enter second number: 9\n",
      "5.0 * 9.0 = 45.0\n"
     ]
    }
   ],
   "source": [
    "#1. Make a calculator using Python with addition , subtraction , multiplication ,division and power.\n",
    "\n",
    "def addition(a, b):\n",
    "    return a + b\n",
    "\n",
    "def subtraction(a, b):\n",
    "    return a - b\n",
    "\n",
    "def multiplication(a, b):\n",
    "    return a * b\n",
    "\n",
    "def division(a, b):\n",
    "    return a / b\n",
    "\n",
    "print(\"Press 1 for Addition: \")\n",
    "print(\"Press 2 for Subtraction: \")\n",
    "print(\"Press 3 for Multiplication: \")\n",
    "print(\"Press 4 for Division: \")\n",
    "print(\"\\nSelect operation: \")\n",
    "\n",
    "while True:\n",
    "    option = input(\"Enter choice(1/2/3/4): \")\n",
    "\n",
    "    if option in ('1', '2', '3', '4'):\n",
    "        num1 = float(input(\"Enter first number: \"))\n",
    "        num2 = float(input(\"Enter second number: \"))\n",
    "\n",
    "        if option == '1':\n",
    "            print(num1, \"+\", num2, \"=\", addition(num1, num2))\n",
    "\n",
    "        elif option == '2':\n",
    "            print(num1, \"-\", num2, \"=\", subtraction(num1, num2))\n",
    "\n",
    "        elif option == '3':\n",
    "            print(num1, \"*\", num2, \"=\", multiplication(num1, num2))\n",
    "\n",
    "        elif option == '4':\n",
    "            print(num1, \"/\", num2, \"=\", division(num1, num2))\n",
    "        \n",
    "        break\n",
    "    \n",
    "    else:\n",
    "        print(\"\\nInvalid Input\")"
   ]
  },
  {
   "cell_type": "code",
   "execution_count": 20,
   "id": "936f9c95",
   "metadata": {},
   "outputs": [
    {
     "name": "stdout",
     "output_type": "stream",
     "text": [
      "4\n"
     ]
    }
   ],
   "source": [
    "#2. Write a program to check if there is any numeric value in list using for loop.\n",
    "\n",
    "list = [\"abc\", '4' , \"ghi\"]\n",
    "for x in list:\n",
    "    if(x.isnumeric() == True):\n",
    "        print(x)\n",
    "        "
   ]
  },
  {
   "cell_type": "code",
   "execution_count": 21,
   "id": "5530303b",
   "metadata": {},
   "outputs": [
    {
     "name": "stdout",
     "output_type": "stream",
     "text": [
      "{'first name': 'Hajra', 'last name': 'Rafiq', 'email address': 'hajrarafiq1828@gmail.com'}\n",
      "\n",
      "After adding Age: \n",
      "\n",
      "{'first name': 'Hajra', 'last name': 'Rafiq', 'email address': 'hajrarafiq1828@gmail.com', 'age': 22}\n"
     ]
    }
   ],
   "source": [
    "#3. Write a Python script to add a key to a dictionary.\n",
    "\n",
    "dict1 = {\"first name\": \"Hajra\", \"last name\": \"Rafiq\", \"email address\": \"hajrarafiq1828@gmail.com\"}\n",
    "print (dict1)\n",
    "\n",
    "dict1[\"age\"] = 22\n",
    "print(\"\\nAfter adding Age: \\n\")\n",
    "print (dict1)"
   ]
  },
  {
   "cell_type": "code",
   "execution_count": 23,
   "id": "ebe5d402",
   "metadata": {},
   "outputs": [
    {
     "name": "stdout",
     "output_type": "stream",
     "text": [
      "5324\n"
     ]
    }
   ],
   "source": [
    "#4. Write a Python program to sum all the numeric items in a dictionary.\n",
    "\n",
    "dict = {'num1':5200,'num2':36,' num3':88}\n",
    "print(sum(dict.values()))"
   ]
  },
  {
   "cell_type": "code",
   "execution_count": 38,
   "id": "0b61f1d7",
   "metadata": {},
   "outputs": [
    {
     "data": {
      "text/plain": [
       "True"
      ]
     },
     "execution_count": 38,
     "metadata": {},
     "output_type": "execute_result"
    }
   ],
   "source": [
    "#5. Write a program to identify duplicate values from list.\n",
    "def duplicate(values):\n",
    "    if len(values) != len(set(values)):\n",
    "          return True\n",
    "    else:\n",
    "          return False\n",
    "\n",
    "names=['Hajra','Rafiq','Hajra']\n",
    "duplicate(names)\n"
   ]
  },
  {
   "cell_type": "code",
   "execution_count": 44,
   "id": "042856b9",
   "metadata": {},
   "outputs": [
    {
     "name": "stdout",
     "output_type": "stream",
     "text": [
      "Key is present in the dictionary\n"
     ]
    }
   ],
   "source": [
    "#6. Write a Python script to check if a given key already exists in a dictionary.\n",
    "\n",
    "dict = {1: \"abc\", 2: \"def\", 3: \"30\", 4: 40, 5: 50, 6: 60}\n",
    "def key_exist(x):\n",
    "  if x in dict:\n",
    "      print('Key is present in the dictionary')\n",
    "  else:\n",
    "      print('Key is not present in the dictionary')\n",
    "\n",
    "key_exist(6)"
   ]
  },
  {
   "cell_type": "code",
   "execution_count": null,
   "id": "15532bcb",
   "metadata": {},
   "outputs": [],
   "source": []
  }
 ],
 "metadata": {
  "kernelspec": {
   "display_name": "Python 3",
   "language": "python",
   "name": "python3"
  },
  "language_info": {
   "codemirror_mode": {
    "name": "ipython",
    "version": 3
   },
   "file_extension": ".py",
   "mimetype": "text/x-python",
   "name": "python",
   "nbconvert_exporter": "python",
   "pygments_lexer": "ipython3",
   "version": "3.8.8"
  }
 },
 "nbformat": 4,
 "nbformat_minor": 5
}
